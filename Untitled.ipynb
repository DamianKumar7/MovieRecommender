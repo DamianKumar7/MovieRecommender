{
 "cells": [
  {
   "cell_type": "code",
   "execution_count": 2,
   "metadata": {},
   "outputs": [
    {
     "name": "stdout",
     "output_type": "stream",
     "text": [
      "The Shape Of The Data is : (5434, 21)\n"
     ]
    }
   ],
   "source": [
    "import pandas as pd\n",
    "df = pd.read_csv('Covid_Dataset.csv')\n",
    "print(\"The Shape Of The Data is :\",df.shape)\n"
   ]
  },
  {
   "cell_type": "code",
   "execution_count": 3,
   "metadata": {},
   "outputs": [
    {
     "name": "stdout",
     "output_type": "stream",
     "text": [
      "  Breathing Problem Fever Dry Cough Sore throat Running Nose Asthma  \\\n",
      "0               Yes   Yes       Yes         Yes          Yes     No   \n",
      "1               Yes   Yes       Yes         Yes           No    Yes   \n",
      "2               Yes   Yes       Yes         Yes          Yes    Yes   \n",
      "3               Yes   Yes       Yes          No           No    Yes   \n",
      "4               Yes   Yes       Yes         Yes          Yes     No   \n",
      "5               Yes   Yes       Yes          No           No     No   \n",
      "6               Yes   Yes       Yes          No           No     No   \n",
      "7               Yes   Yes       Yes          No          Yes    Yes   \n",
      "8               Yes   Yes       Yes          No          Yes     No   \n",
      "9               Yes   Yes       Yes          No           No    Yes   \n",
      "\n",
      "  Chronic Lung Disease Headache Heart Disease Diabetes  ... Fatigue   \\\n",
      "0                   No       No            No      Yes  ...      Yes   \n",
      "1                  Yes      Yes            No       No  ...      Yes   \n",
      "2                  Yes      Yes            No      Yes  ...      Yes   \n",
      "3                   No       No           Yes      Yes  ...       No   \n",
      "4                  Yes      Yes           Yes      Yes  ...       No   \n",
      "5                   No       No           Yes       No  ...       No   \n",
      "6                  Yes       No           Yes      Yes  ...      Yes   \n",
      "7                   No       No            No      Yes  ...       No   \n",
      "8                  Yes       No            No      Yes  ...      Yes   \n",
      "9                   No       No            No      Yes  ...      Yes   \n",
      "\n",
      "  Gastrointestinal  Abroad travel Contact with COVID Patient  \\\n",
      "0               Yes            No                        Yes   \n",
      "1                No            No                         No   \n",
      "2               Yes           Yes                         No   \n",
      "3                No           Yes                         No   \n",
      "4               Yes            No                        Yes   \n",
      "5                No            No                         No   \n",
      "6               Yes            No                         No   \n",
      "7               Yes           Yes                         No   \n",
      "8                No           Yes                        Yes   \n",
      "9                No            No                         No   \n",
      "\n",
      "  Attended Large Gathering Visited Public Exposed Places  \\\n",
      "0                       No                           Yes   \n",
      "1                      Yes                           Yes   \n",
      "2                       No                            No   \n",
      "3                      Yes                           Yes   \n",
      "4                       No                           Yes   \n",
      "5                       No                            No   \n",
      "6                      Yes                           Yes   \n",
      "7                       No                           Yes   \n",
      "8                      Yes                            No   \n",
      "9                       No                           Yes   \n",
      "\n",
      "  Family working in Public Exposed Places Wearing Masks  \\\n",
      "0                                     Yes            No   \n",
      "1                                      No            No   \n",
      "2                                      No            No   \n",
      "3                                      No            No   \n",
      "4                                      No            No   \n",
      "5                                      No            No   \n",
      "6                                     Yes            No   \n",
      "7                                      No            No   \n",
      "8                                      No            No   \n",
      "9                                      No            No   \n",
      "\n",
      "  Sanitization from Market COVID-19  \n",
      "0                       No      Yes  \n",
      "1                       No      Yes  \n",
      "2                       No      Yes  \n",
      "3                       No      Yes  \n",
      "4                       No      Yes  \n",
      "5                       No      Yes  \n",
      "6                       No      Yes  \n",
      "7                       No      Yes  \n",
      "8                       No      Yes  \n",
      "9                       No      Yes  \n",
      "\n",
      "[10 rows x 21 columns]\n"
     ]
    }
   ],
   "source": [
    "print(df.head(10))\n"
   ]
  },
  {
   "cell_type": "code",
   "execution_count": 4,
   "metadata": {},
   "outputs": [],
   "source": [
    "from sklearn.preprocessing import LabelEncoder\n",
    "l=LabelEncoder()"
   ]
  },
  {
   "cell_type": "code",
   "execution_count": 5,
   "metadata": {},
   "outputs": [],
   "source": [
    "df=df.apply(l.fit_transform).astype(int)"
   ]
  },
  {
   "cell_type": "code",
   "execution_count": 6,
   "metadata": {},
   "outputs": [],
   "source": [
    "cor=df.corr()"
   ]
  },
  {
   "cell_type": "code",
   "execution_count": 7,
   "metadata": {},
   "outputs": [],
   "source": [
    "x=df.iloc[:,[0,1,2,3,4,5,6,7,8,9,10,11,12,13,14,15,16,17,18,19]]\n",
    "y=df.iloc[:,[20]]"
   ]
  },
  {
   "cell_type": "code",
   "execution_count": 8,
   "metadata": {},
   "outputs": [
    {
     "data": {
      "text/html": [
       "<div>\n",
       "<style scoped>\n",
       "    .dataframe tbody tr th:only-of-type {\n",
       "        vertical-align: middle;\n",
       "    }\n",
       "\n",
       "    .dataframe tbody tr th {\n",
       "        vertical-align: top;\n",
       "    }\n",
       "\n",
       "    .dataframe thead th {\n",
       "        text-align: right;\n",
       "    }\n",
       "</style>\n",
       "<table border=\"1\" class=\"dataframe\">\n",
       "  <thead>\n",
       "    <tr style=\"text-align: right;\">\n",
       "      <th></th>\n",
       "      <th>Breathing Problem</th>\n",
       "      <th>Fever</th>\n",
       "      <th>Dry Cough</th>\n",
       "      <th>Sore throat</th>\n",
       "      <th>Running Nose</th>\n",
       "      <th>Asthma</th>\n",
       "      <th>Chronic Lung Disease</th>\n",
       "      <th>Headache</th>\n",
       "      <th>Heart Disease</th>\n",
       "      <th>Diabetes</th>\n",
       "      <th>Hyper Tension</th>\n",
       "      <th>Fatigue</th>\n",
       "      <th>Gastrointestinal</th>\n",
       "      <th>Abroad travel</th>\n",
       "      <th>Contact with COVID Patient</th>\n",
       "      <th>Attended Large Gathering</th>\n",
       "      <th>Visited Public Exposed Places</th>\n",
       "      <th>Family working in Public Exposed Places</th>\n",
       "      <th>Wearing Masks</th>\n",
       "      <th>Sanitization from Market</th>\n",
       "    </tr>\n",
       "  </thead>\n",
       "  <tbody>\n",
       "    <tr>\n",
       "      <th>0</th>\n",
       "      <td>1</td>\n",
       "      <td>1</td>\n",
       "      <td>1</td>\n",
       "      <td>1</td>\n",
       "      <td>1</td>\n",
       "      <td>0</td>\n",
       "      <td>0</td>\n",
       "      <td>0</td>\n",
       "      <td>0</td>\n",
       "      <td>1</td>\n",
       "      <td>1</td>\n",
       "      <td>1</td>\n",
       "      <td>1</td>\n",
       "      <td>0</td>\n",
       "      <td>1</td>\n",
       "      <td>0</td>\n",
       "      <td>1</td>\n",
       "      <td>1</td>\n",
       "      <td>0</td>\n",
       "      <td>0</td>\n",
       "    </tr>\n",
       "    <tr>\n",
       "      <th>1</th>\n",
       "      <td>1</td>\n",
       "      <td>1</td>\n",
       "      <td>1</td>\n",
       "      <td>1</td>\n",
       "      <td>0</td>\n",
       "      <td>1</td>\n",
       "      <td>1</td>\n",
       "      <td>1</td>\n",
       "      <td>0</td>\n",
       "      <td>0</td>\n",
       "      <td>0</td>\n",
       "      <td>1</td>\n",
       "      <td>0</td>\n",
       "      <td>0</td>\n",
       "      <td>0</td>\n",
       "      <td>1</td>\n",
       "      <td>1</td>\n",
       "      <td>0</td>\n",
       "      <td>0</td>\n",
       "      <td>0</td>\n",
       "    </tr>\n",
       "    <tr>\n",
       "      <th>2</th>\n",
       "      <td>1</td>\n",
       "      <td>1</td>\n",
       "      <td>1</td>\n",
       "      <td>1</td>\n",
       "      <td>1</td>\n",
       "      <td>1</td>\n",
       "      <td>1</td>\n",
       "      <td>1</td>\n",
       "      <td>0</td>\n",
       "      <td>1</td>\n",
       "      <td>0</td>\n",
       "      <td>1</td>\n",
       "      <td>1</td>\n",
       "      <td>1</td>\n",
       "      <td>0</td>\n",
       "      <td>0</td>\n",
       "      <td>0</td>\n",
       "      <td>0</td>\n",
       "      <td>0</td>\n",
       "      <td>0</td>\n",
       "    </tr>\n",
       "    <tr>\n",
       "      <th>3</th>\n",
       "      <td>1</td>\n",
       "      <td>1</td>\n",
       "      <td>1</td>\n",
       "      <td>0</td>\n",
       "      <td>0</td>\n",
       "      <td>1</td>\n",
       "      <td>0</td>\n",
       "      <td>0</td>\n",
       "      <td>1</td>\n",
       "      <td>1</td>\n",
       "      <td>0</td>\n",
       "      <td>0</td>\n",
       "      <td>0</td>\n",
       "      <td>1</td>\n",
       "      <td>0</td>\n",
       "      <td>1</td>\n",
       "      <td>1</td>\n",
       "      <td>0</td>\n",
       "      <td>0</td>\n",
       "      <td>0</td>\n",
       "    </tr>\n",
       "    <tr>\n",
       "      <th>4</th>\n",
       "      <td>1</td>\n",
       "      <td>1</td>\n",
       "      <td>1</td>\n",
       "      <td>1</td>\n",
       "      <td>1</td>\n",
       "      <td>0</td>\n",
       "      <td>1</td>\n",
       "      <td>1</td>\n",
       "      <td>1</td>\n",
       "      <td>1</td>\n",
       "      <td>1</td>\n",
       "      <td>0</td>\n",
       "      <td>1</td>\n",
       "      <td>0</td>\n",
       "      <td>1</td>\n",
       "      <td>0</td>\n",
       "      <td>1</td>\n",
       "      <td>0</td>\n",
       "      <td>0</td>\n",
       "      <td>0</td>\n",
       "    </tr>\n",
       "    <tr>\n",
       "      <th>...</th>\n",
       "      <td>...</td>\n",
       "      <td>...</td>\n",
       "      <td>...</td>\n",
       "      <td>...</td>\n",
       "      <td>...</td>\n",
       "      <td>...</td>\n",
       "      <td>...</td>\n",
       "      <td>...</td>\n",
       "      <td>...</td>\n",
       "      <td>...</td>\n",
       "      <td>...</td>\n",
       "      <td>...</td>\n",
       "      <td>...</td>\n",
       "      <td>...</td>\n",
       "      <td>...</td>\n",
       "      <td>...</td>\n",
       "      <td>...</td>\n",
       "      <td>...</td>\n",
       "      <td>...</td>\n",
       "      <td>...</td>\n",
       "    </tr>\n",
       "    <tr>\n",
       "      <th>5429</th>\n",
       "      <td>1</td>\n",
       "      <td>1</td>\n",
       "      <td>0</td>\n",
       "      <td>1</td>\n",
       "      <td>1</td>\n",
       "      <td>1</td>\n",
       "      <td>1</td>\n",
       "      <td>0</td>\n",
       "      <td>0</td>\n",
       "      <td>0</td>\n",
       "      <td>0</td>\n",
       "      <td>1</td>\n",
       "      <td>1</td>\n",
       "      <td>0</td>\n",
       "      <td>0</td>\n",
       "      <td>0</td>\n",
       "      <td>0</td>\n",
       "      <td>0</td>\n",
       "      <td>0</td>\n",
       "      <td>0</td>\n",
       "    </tr>\n",
       "    <tr>\n",
       "      <th>5430</th>\n",
       "      <td>1</td>\n",
       "      <td>1</td>\n",
       "      <td>1</td>\n",
       "      <td>0</td>\n",
       "      <td>1</td>\n",
       "      <td>1</td>\n",
       "      <td>0</td>\n",
       "      <td>1</td>\n",
       "      <td>0</td>\n",
       "      <td>1</td>\n",
       "      <td>1</td>\n",
       "      <td>1</td>\n",
       "      <td>0</td>\n",
       "      <td>0</td>\n",
       "      <td>0</td>\n",
       "      <td>0</td>\n",
       "      <td>0</td>\n",
       "      <td>0</td>\n",
       "      <td>0</td>\n",
       "      <td>0</td>\n",
       "    </tr>\n",
       "    <tr>\n",
       "      <th>5431</th>\n",
       "      <td>1</td>\n",
       "      <td>1</td>\n",
       "      <td>1</td>\n",
       "      <td>0</td>\n",
       "      <td>0</td>\n",
       "      <td>0</td>\n",
       "      <td>0</td>\n",
       "      <td>0</td>\n",
       "      <td>1</td>\n",
       "      <td>0</td>\n",
       "      <td>1</td>\n",
       "      <td>0</td>\n",
       "      <td>0</td>\n",
       "      <td>0</td>\n",
       "      <td>0</td>\n",
       "      <td>0</td>\n",
       "      <td>0</td>\n",
       "      <td>0</td>\n",
       "      <td>0</td>\n",
       "      <td>0</td>\n",
       "    </tr>\n",
       "    <tr>\n",
       "      <th>5432</th>\n",
       "      <td>1</td>\n",
       "      <td>1</td>\n",
       "      <td>1</td>\n",
       "      <td>0</td>\n",
       "      <td>1</td>\n",
       "      <td>0</td>\n",
       "      <td>0</td>\n",
       "      <td>1</td>\n",
       "      <td>1</td>\n",
       "      <td>0</td>\n",
       "      <td>0</td>\n",
       "      <td>0</td>\n",
       "      <td>0</td>\n",
       "      <td>0</td>\n",
       "      <td>0</td>\n",
       "      <td>0</td>\n",
       "      <td>0</td>\n",
       "      <td>0</td>\n",
       "      <td>0</td>\n",
       "      <td>0</td>\n",
       "    </tr>\n",
       "    <tr>\n",
       "      <th>5433</th>\n",
       "      <td>1</td>\n",
       "      <td>1</td>\n",
       "      <td>1</td>\n",
       "      <td>0</td>\n",
       "      <td>1</td>\n",
       "      <td>1</td>\n",
       "      <td>0</td>\n",
       "      <td>1</td>\n",
       "      <td>0</td>\n",
       "      <td>1</td>\n",
       "      <td>1</td>\n",
       "      <td>1</td>\n",
       "      <td>0</td>\n",
       "      <td>0</td>\n",
       "      <td>0</td>\n",
       "      <td>0</td>\n",
       "      <td>0</td>\n",
       "      <td>0</td>\n",
       "      <td>0</td>\n",
       "      <td>0</td>\n",
       "    </tr>\n",
       "  </tbody>\n",
       "</table>\n",
       "<p>5434 rows × 20 columns</p>\n",
       "</div>"
      ],
      "text/plain": [
       "      Breathing Problem  Fever  Dry Cough  Sore throat  Running Nose  Asthma  \\\n",
       "0                     1      1          1            1             1       0   \n",
       "1                     1      1          1            1             0       1   \n",
       "2                     1      1          1            1             1       1   \n",
       "3                     1      1          1            0             0       1   \n",
       "4                     1      1          1            1             1       0   \n",
       "...                 ...    ...        ...          ...           ...     ...   \n",
       "5429                  1      1          0            1             1       1   \n",
       "5430                  1      1          1            0             1       1   \n",
       "5431                  1      1          1            0             0       0   \n",
       "5432                  1      1          1            0             1       0   \n",
       "5433                  1      1          1            0             1       1   \n",
       "\n",
       "      Chronic Lung Disease  Headache  Heart Disease  Diabetes  Hyper Tension  \\\n",
       "0                        0         0              0         1              1   \n",
       "1                        1         1              0         0              0   \n",
       "2                        1         1              0         1              0   \n",
       "3                        0         0              1         1              0   \n",
       "4                        1         1              1         1              1   \n",
       "...                    ...       ...            ...       ...            ...   \n",
       "5429                     1         0              0         0              0   \n",
       "5430                     0         1              0         1              1   \n",
       "5431                     0         0              1         0              1   \n",
       "5432                     0         1              1         0              0   \n",
       "5433                     0         1              0         1              1   \n",
       "\n",
       "      Fatigue   Gastrointestinal   Abroad travel  Contact with COVID Patient  \\\n",
       "0            1                  1              0                           1   \n",
       "1            1                  0              0                           0   \n",
       "2            1                  1              1                           0   \n",
       "3            0                  0              1                           0   \n",
       "4            0                  1              0                           1   \n",
       "...        ...                ...            ...                         ...   \n",
       "5429         1                  1              0                           0   \n",
       "5430         1                  0              0                           0   \n",
       "5431         0                  0              0                           0   \n",
       "5432         0                  0              0                           0   \n",
       "5433         1                  0              0                           0   \n",
       "\n",
       "      Attended Large Gathering  Visited Public Exposed Places  \\\n",
       "0                            0                              1   \n",
       "1                            1                              1   \n",
       "2                            0                              0   \n",
       "3                            1                              1   \n",
       "4                            0                              1   \n",
       "...                        ...                            ...   \n",
       "5429                         0                              0   \n",
       "5430                         0                              0   \n",
       "5431                         0                              0   \n",
       "5432                         0                              0   \n",
       "5433                         0                              0   \n",
       "\n",
       "      Family working in Public Exposed Places  Wearing Masks  \\\n",
       "0                                           1              0   \n",
       "1                                           0              0   \n",
       "2                                           0              0   \n",
       "3                                           0              0   \n",
       "4                                           0              0   \n",
       "...                                       ...            ...   \n",
       "5429                                        0              0   \n",
       "5430                                        0              0   \n",
       "5431                                        0              0   \n",
       "5432                                        0              0   \n",
       "5433                                        0              0   \n",
       "\n",
       "      Sanitization from Market  \n",
       "0                            0  \n",
       "1                            0  \n",
       "2                            0  \n",
       "3                            0  \n",
       "4                            0  \n",
       "...                        ...  \n",
       "5429                         0  \n",
       "5430                         0  \n",
       "5431                         0  \n",
       "5432                         0  \n",
       "5433                         0  \n",
       "\n",
       "[5434 rows x 20 columns]"
      ]
     },
     "execution_count": 8,
     "metadata": {},
     "output_type": "execute_result"
    }
   ],
   "source": [
    "x\n"
   ]
  },
  {
   "cell_type": "code",
   "execution_count": 9,
   "metadata": {},
   "outputs": [
    {
     "data": {
      "text/html": [
       "<div>\n",
       "<style scoped>\n",
       "    .dataframe tbody tr th:only-of-type {\n",
       "        vertical-align: middle;\n",
       "    }\n",
       "\n",
       "    .dataframe tbody tr th {\n",
       "        vertical-align: top;\n",
       "    }\n",
       "\n",
       "    .dataframe thead th {\n",
       "        text-align: right;\n",
       "    }\n",
       "</style>\n",
       "<table border=\"1\" class=\"dataframe\">\n",
       "  <thead>\n",
       "    <tr style=\"text-align: right;\">\n",
       "      <th></th>\n",
       "      <th>COVID-19</th>\n",
       "    </tr>\n",
       "  </thead>\n",
       "  <tbody>\n",
       "    <tr>\n",
       "      <th>0</th>\n",
       "      <td>1</td>\n",
       "    </tr>\n",
       "    <tr>\n",
       "      <th>1</th>\n",
       "      <td>1</td>\n",
       "    </tr>\n",
       "    <tr>\n",
       "      <th>2</th>\n",
       "      <td>1</td>\n",
       "    </tr>\n",
       "    <tr>\n",
       "      <th>3</th>\n",
       "      <td>1</td>\n",
       "    </tr>\n",
       "    <tr>\n",
       "      <th>4</th>\n",
       "      <td>1</td>\n",
       "    </tr>\n",
       "    <tr>\n",
       "      <th>...</th>\n",
       "      <td>...</td>\n",
       "    </tr>\n",
       "    <tr>\n",
       "      <th>5429</th>\n",
       "      <td>1</td>\n",
       "    </tr>\n",
       "    <tr>\n",
       "      <th>5430</th>\n",
       "      <td>1</td>\n",
       "    </tr>\n",
       "    <tr>\n",
       "      <th>5431</th>\n",
       "      <td>0</td>\n",
       "    </tr>\n",
       "    <tr>\n",
       "      <th>5432</th>\n",
       "      <td>0</td>\n",
       "    </tr>\n",
       "    <tr>\n",
       "      <th>5433</th>\n",
       "      <td>0</td>\n",
       "    </tr>\n",
       "  </tbody>\n",
       "</table>\n",
       "<p>5434 rows × 1 columns</p>\n",
       "</div>"
      ],
      "text/plain": [
       "      COVID-19\n",
       "0            1\n",
       "1            1\n",
       "2            1\n",
       "3            1\n",
       "4            1\n",
       "...        ...\n",
       "5429         1\n",
       "5430         1\n",
       "5431         0\n",
       "5432         0\n",
       "5433         0\n",
       "\n",
       "[5434 rows x 1 columns]"
      ]
     },
     "execution_count": 9,
     "metadata": {},
     "output_type": "execute_result"
    }
   ],
   "source": [
    "y"
   ]
  },
  {
   "cell_type": "code",
   "execution_count": 10,
   "metadata": {},
   "outputs": [
    {
     "data": {
      "text/plain": [
       "(5434, 20)"
      ]
     },
     "execution_count": 10,
     "metadata": {},
     "output_type": "execute_result"
    }
   ],
   "source": [
    "x.shape"
   ]
  },
  {
   "cell_type": "code",
   "execution_count": 11,
   "metadata": {},
   "outputs": [],
   "source": [
    "from sklearn.preprocessing import StandardScaler\n",
    "from sklearn.metrics import precision_recall_fscore_support\n",
    "from sklearn.model_selection import train_test_split\n",
    "X_train, X_test, Y_train, Y_test = train_test_split(x, y, test_size=0.3, random_state= 0)"
   ]
  },
  {
   "cell_type": "code",
   "execution_count": 12,
   "metadata": {},
   "outputs": [
    {
     "name": "stderr",
     "output_type": "stream",
     "text": [
      "Using TensorFlow backend.\n"
     ]
    }
   ],
   "source": [
    "import keras\n",
    "from keras.models import Sequential\n",
    "from keras.layers import Dense\n",
    "from keras.layers import Dropout"
   ]
  },
  {
   "cell_type": "code",
   "execution_count": 13,
   "metadata": {},
   "outputs": [
    {
     "name": "stdout",
     "output_type": "stream",
     "text": [
      "WARNING:tensorflow:From C:\\Users\\Mainak\\Anaconda3\\lib\\site-packages\\keras\\backend\\tensorflow_backend.py:74: The name tf.get_default_graph is deprecated. Please use tf.compat.v1.get_default_graph instead.\n",
      "\n"
     ]
    }
   ],
   "source": [
    "classifier = Sequential()"
   ]
  },
  {
   "cell_type": "code",
   "execution_count": 14,
   "metadata": {},
   "outputs": [
    {
     "name": "stdout",
     "output_type": "stream",
     "text": [
      "WARNING:tensorflow:From C:\\Users\\Mainak\\Anaconda3\\lib\\site-packages\\keras\\backend\\tensorflow_backend.py:517: The name tf.placeholder is deprecated. Please use tf.compat.v1.placeholder instead.\n",
      "\n",
      "WARNING:tensorflow:From C:\\Users\\Mainak\\Anaconda3\\lib\\site-packages\\keras\\backend\\tensorflow_backend.py:4138: The name tf.random_uniform is deprecated. Please use tf.random.uniform instead.\n",
      "\n",
      "WARNING:tensorflow:From C:\\Users\\Mainak\\Anaconda3\\lib\\site-packages\\keras\\backend\\tensorflow_backend.py:133: The name tf.placeholder_with_default is deprecated. Please use tf.compat.v1.placeholder_with_default instead.\n",
      "\n",
      "WARNING:tensorflow:From C:\\Users\\Mainak\\Anaconda3\\lib\\site-packages\\keras\\backend\\tensorflow_backend.py:3445: calling dropout (from tensorflow.python.ops.nn_ops) with keep_prob is deprecated and will be removed in a future version.\n",
      "Instructions for updating:\n",
      "Please use `rate` instead of `keep_prob`. Rate should be set to `rate = 1 - keep_prob`.\n"
     ]
    },
    {
     "name": "stderr",
     "output_type": "stream",
     "text": [
      "C:\\Users\\Mainak\\Anaconda3\\lib\\site-packages\\ipykernel_launcher.py:2: UserWarning: Update your `Dropout` call to the Keras 2 API: `Dropout(rate=0.1)`\n",
      "  \n"
     ]
    }
   ],
   "source": [
    "classifier.add(Dense(6, input_dim = 20, kernel_initializer = 'glorot_uniform', activation = 'relu' ))\n",
    "classifier.add(Dropout(p = 0.1))"
   ]
  },
  {
   "cell_type": "code",
   "execution_count": 15,
   "metadata": {},
   "outputs": [
    {
     "name": "stderr",
     "output_type": "stream",
     "text": [
      "C:\\Users\\Mainak\\Anaconda3\\lib\\site-packages\\ipykernel_launcher.py:2: UserWarning: Update your `Dropout` call to the Keras 2 API: `Dropout(rate=0.1)`\n",
      "  \n"
     ]
    }
   ],
   "source": [
    "classifier.add(Dense(6, kernel_initializer = 'glorot_uniform', activation = 'relu' ))\n",
    "classifier.add(Dropout(p = 0.1))"
   ]
  },
  {
   "cell_type": "code",
   "execution_count": 16,
   "metadata": {},
   "outputs": [],
   "source": [
    "classifier.add(Dense(1, kernel_initializer = 'glorot_uniform', activation = 'sigmoid' ))"
   ]
  },
  {
   "cell_type": "code",
   "execution_count": 17,
   "metadata": {},
   "outputs": [
    {
     "name": "stdout",
     "output_type": "stream",
     "text": [
      "WARNING:tensorflow:From C:\\Users\\Mainak\\Anaconda3\\lib\\site-packages\\keras\\optimizers.py:790: The name tf.train.Optimizer is deprecated. Please use tf.compat.v1.train.Optimizer instead.\n",
      "\n",
      "WARNING:tensorflow:From C:\\Users\\Mainak\\Anaconda3\\lib\\site-packages\\keras\\backend\\tensorflow_backend.py:3376: The name tf.log is deprecated. Please use tf.math.log instead.\n",
      "\n",
      "WARNING:tensorflow:From C:\\Users\\Mainak\\Anaconda3\\lib\\site-packages\\tensorflow_core\\python\\ops\\nn_impl.py:183: where (from tensorflow.python.ops.array_ops) is deprecated and will be removed in a future version.\n",
      "Instructions for updating:\n",
      "Use tf.where in 2.0, which has the same broadcast rule as np.where\n"
     ]
    }
   ],
   "source": [
    "classifier.compile(optimizer = 'adam', loss = 'binary_crossentropy', metrics = ['accuracy'])"
   ]
  },
  {
   "cell_type": "code",
   "execution_count": 18,
   "metadata": {},
   "outputs": [
    {
     "name": "stderr",
     "output_type": "stream",
     "text": [
      "C:\\Users\\Mainak\\Anaconda3\\lib\\site-packages\\ipykernel_launcher.py:2: UserWarning: The `nb_epoch` argument in `fit` has been renamed `epochs`.\n",
      "  \n"
     ]
    },
    {
     "name": "stdout",
     "output_type": "stream",
     "text": [
      "WARNING:tensorflow:From C:\\Users\\Mainak\\Anaconda3\\lib\\site-packages\\keras\\backend\\tensorflow_backend.py:986: The name tf.assign_add is deprecated. Please use tf.compat.v1.assign_add instead.\n",
      "\n",
      "WARNING:tensorflow:From C:\\Users\\Mainak\\Anaconda3\\lib\\site-packages\\keras\\backend\\tensorflow_backend.py:973: The name tf.assign is deprecated. Please use tf.compat.v1.assign instead.\n",
      "\n",
      "WARNING:tensorflow:From C:\\Users\\Mainak\\Anaconda3\\lib\\site-packages\\keras\\backend\\tensorflow_backend.py:2741: The name tf.Session is deprecated. Please use tf.compat.v1.Session instead.\n",
      "\n",
      "Train on 3803 samples, validate on 1631 samples\n",
      "Epoch 1/100\n",
      "WARNING:tensorflow:From C:\\Users\\Mainak\\Anaconda3\\lib\\site-packages\\keras\\backend\\tensorflow_backend.py:174: The name tf.get_default_session is deprecated. Please use tf.compat.v1.get_default_session instead.\n",
      "\n",
      "WARNING:tensorflow:From C:\\Users\\Mainak\\Anaconda3\\lib\\site-packages\\keras\\backend\\tensorflow_backend.py:181: The name tf.ConfigProto is deprecated. Please use tf.compat.v1.ConfigProto instead.\n",
      "\n",
      "WARNING:tensorflow:From C:\\Users\\Mainak\\Anaconda3\\lib\\site-packages\\keras\\backend\\tensorflow_backend.py:190: The name tf.global_variables is deprecated. Please use tf.compat.v1.global_variables instead.\n",
      "\n",
      "WARNING:tensorflow:From C:\\Users\\Mainak\\Anaconda3\\lib\\site-packages\\keras\\backend\\tensorflow_backend.py:199: The name tf.is_variable_initialized is deprecated. Please use tf.compat.v1.is_variable_initialized instead.\n",
      "\n",
      "WARNING:tensorflow:From C:\\Users\\Mainak\\Anaconda3\\lib\\site-packages\\keras\\backend\\tensorflow_backend.py:206: The name tf.variables_initializer is deprecated. Please use tf.compat.v1.variables_initializer instead.\n",
      "\n",
      "3803/3803 [==============================] - 5s 1ms/step - loss: 0.4315 - acc: 0.8086 - val_loss: 0.2722 - val_acc: 0.8719\n",
      "Epoch 2/100\n",
      "3803/3803 [==============================] - 3s 706us/step - loss: 0.2517 - acc: 0.8919 - val_loss: 0.1746 - val_acc: 0.9283\n",
      "Epoch 3/100\n",
      "3803/3803 [==============================] - 3s 721us/step - loss: 0.1904 - acc: 0.9151 - val_loss: 0.1388 - val_acc: 0.9448\n",
      "Epoch 4/100\n",
      "3803/3803 [==============================] - 2s 553us/step - loss: 0.1532 - acc: 0.9316 - val_loss: 0.1169 - val_acc: 0.9522\n",
      "Epoch 5/100\n",
      "3803/3803 [==============================] - 2s 516us/step - loss: 0.1361 - acc: 0.9387 - val_loss: 0.1031 - val_acc: 0.9577\n",
      "Epoch 6/100\n",
      "3803/3803 [==============================] - 2s 561us/step - loss: 0.1200 - acc: 0.9461 - val_loss: 0.0910 - val_acc: 0.9669\n",
      "Epoch 7/100\n",
      "3803/3803 [==============================] - 2s 601us/step - loss: 0.1129 - acc: 0.9466 - val_loss: 0.0840 - val_acc: 0.9675\n",
      "Epoch 8/100\n",
      "3803/3803 [==============================] - 2s 618us/step - loss: 0.0977 - acc: 0.9574 - val_loss: 0.0779 - val_acc: 0.9675\n",
      "Epoch 9/100\n",
      "3803/3803 [==============================] - 3s 705us/step - loss: 0.0894 - acc: 0.9571 - val_loss: 0.0730 - val_acc: 0.9724\n",
      "Epoch 10/100\n",
      "3803/3803 [==============================] - 3s 886us/step - loss: 0.0864 - acc: 0.9569 - val_loss: 0.0726 - val_acc: 0.9693\n",
      "Epoch 11/100\n",
      "3803/3803 [==============================] - 4s 994us/step - loss: 0.0858 - acc: 0.9603 - val_loss: 0.0672 - val_acc: 0.9736\n",
      "Epoch 12/100\n",
      "3803/3803 [==============================] - 3s 846us/step - loss: 0.0811 - acc: 0.9637 - val_loss: 0.0670 - val_acc: 0.9724\n",
      "Epoch 13/100\n",
      "3803/3803 [==============================] - 3s 671us/step - loss: 0.0747 - acc: 0.9656 - val_loss: 0.0626 - val_acc: 0.9718\n",
      "Epoch 14/100\n",
      "3803/3803 [==============================] - 2s 631us/step - loss: 0.0780 - acc: 0.9653 - val_loss: 0.0626 - val_acc: 0.9742\n",
      "Epoch 15/100\n",
      "3803/3803 [==============================] - 2s 498us/step - loss: 0.0737 - acc: 0.9640 - val_loss: 0.0620 - val_acc: 0.9755\n",
      "Epoch 16/100\n",
      "3803/3803 [==============================] - 2s 539us/step - loss: 0.0733 - acc: 0.9687 - val_loss: 0.0617 - val_acc: 0.9742\n",
      "Epoch 17/100\n",
      "3803/3803 [==============================] - 2s 611us/step - loss: 0.0697 - acc: 0.9645 - val_loss: 0.0632 - val_acc: 0.9736\n",
      "Epoch 18/100\n",
      "3803/3803 [==============================] - 2s 511us/step - loss: 0.0690 - acc: 0.9682 - val_loss: 0.0623 - val_acc: 0.9749\n",
      "Epoch 19/100\n",
      "3803/3803 [==============================] - 3s 670us/step - loss: 0.0624 - acc: 0.9703 - val_loss: 0.0615 - val_acc: 0.9742\n",
      "Epoch 20/100\n",
      "3803/3803 [==============================] - 2s 608us/step - loss: 0.0622 - acc: 0.9719 - val_loss: 0.0602 - val_acc: 0.9706\n",
      "Epoch 21/100\n",
      "3803/3803 [==============================] - 2s 597us/step - loss: 0.0624 - acc: 0.9682 - val_loss: 0.0612 - val_acc: 0.9706\n",
      "Epoch 22/100\n",
      "3803/3803 [==============================] - 3s 661us/step - loss: 0.0666 - acc: 0.9705 - val_loss: 0.0601 - val_acc: 0.9706\n",
      "Epoch 23/100\n",
      "3803/3803 [==============================] - 2s 453us/step - loss: 0.0584 - acc: 0.9711 - val_loss: 0.0583 - val_acc: 0.9706\n",
      "Epoch 24/100\n",
      "3803/3803 [==============================] - 2s 570us/step - loss: 0.0585 - acc: 0.9721 - val_loss: 0.0589 - val_acc: 0.9706\n",
      "Epoch 25/100\n",
      "3803/3803 [==============================] - 2s 509us/step - loss: 0.0641 - acc: 0.9677 - val_loss: 0.0572 - val_acc: 0.9724\n",
      "Epoch 26/100\n",
      "3803/3803 [==============================] - 2s 518us/step - loss: 0.0588 - acc: 0.9745 - val_loss: 0.0585 - val_acc: 0.9724\n",
      "Epoch 27/100\n",
      "3803/3803 [==============================] - 2s 486us/step - loss: 0.0533 - acc: 0.9758 - val_loss: 0.0580 - val_acc: 0.9742\n",
      "Epoch 28/100\n",
      "3803/3803 [==============================] - 2s 546us/step - loss: 0.0638 - acc: 0.9711 - val_loss: 0.0563 - val_acc: 0.9773\n",
      "Epoch 29/100\n",
      "3803/3803 [==============================] - 2s 587us/step - loss: 0.0587 - acc: 0.9727 - val_loss: 0.0542 - val_acc: 0.9773\n",
      "Epoch 30/100\n",
      "3803/3803 [==============================] - 2s 509us/step - loss: 0.0574 - acc: 0.9755 - val_loss: 0.0567 - val_acc: 0.9742\n",
      "Epoch 31/100\n",
      "3803/3803 [==============================] - 2s 545us/step - loss: 0.0548 - acc: 0.9753 - val_loss: 0.0563 - val_acc: 0.9742\n",
      "Epoch 32/100\n",
      "3803/3803 [==============================] - 2s 489us/step - loss: 0.0546 - acc: 0.9763 - val_loss: 0.0540 - val_acc: 0.9742\n",
      "Epoch 33/100\n",
      "3803/3803 [==============================] - 2s 540us/step - loss: 0.0561 - acc: 0.9734 - val_loss: 0.0553 - val_acc: 0.9761\n",
      "Epoch 34/100\n",
      "3803/3803 [==============================] - 2s 562us/step - loss: 0.0532 - acc: 0.9745 - val_loss: 0.0628 - val_acc: 0.9700\n",
      "Epoch 35/100\n",
      "3803/3803 [==============================] - 2s 540us/step - loss: 0.0541 - acc: 0.9734 - val_loss: 0.0532 - val_acc: 0.9761\n",
      "Epoch 36/100\n",
      "3803/3803 [==============================] - 2s 546us/step - loss: 0.0503 - acc: 0.9766 - val_loss: 0.0591 - val_acc: 0.9755\n",
      "Epoch 37/100\n",
      "3803/3803 [==============================] - 2s 527us/step - loss: 0.0546 - acc: 0.9745 - val_loss: 0.0536 - val_acc: 0.9755\n",
      "Epoch 38/100\n",
      "3803/3803 [==============================] - 2s 574us/step - loss: 0.0544 - acc: 0.9750 - val_loss: 0.0537 - val_acc: 0.9755\n",
      "Epoch 39/100\n",
      "3803/3803 [==============================] - 2s 643us/step - loss: 0.0537 - acc: 0.9771 - val_loss: 0.0504 - val_acc: 0.9761\n",
      "Epoch 40/100\n",
      "3803/3803 [==============================] - 3s 816us/step - loss: 0.0522 - acc: 0.9750 - val_loss: 0.0596 - val_acc: 0.9706\n",
      "Epoch 41/100\n",
      "3803/3803 [==============================] - 2s 627us/step - loss: 0.0551 - acc: 0.9763 - val_loss: 0.0534 - val_acc: 0.9755\n",
      "Epoch 42/100\n",
      "3803/3803 [==============================] - 3s 699us/step - loss: 0.0534 - acc: 0.9774 - val_loss: 0.0536 - val_acc: 0.9755\n",
      "Epoch 43/100\n",
      "3803/3803 [==============================] - 3s 718us/step - loss: 0.0517 - acc: 0.9769 - val_loss: 0.0511 - val_acc: 0.9755\n",
      "Epoch 44/100\n",
      "3803/3803 [==============================] - 3s 776us/step - loss: 0.0513 - acc: 0.9771 - val_loss: 0.0507 - val_acc: 0.9755\n",
      "Epoch 45/100\n",
      "3803/3803 [==============================] - 3s 681us/step - loss: 0.0585 - acc: 0.9774 - val_loss: 0.0538 - val_acc: 0.9742\n",
      "Epoch 46/100\n",
      "3803/3803 [==============================] - 3s 769us/step - loss: 0.0541 - acc: 0.9769 - val_loss: 0.0547 - val_acc: 0.9755\n",
      "Epoch 47/100\n",
      "3803/3803 [==============================] - 3s 791us/step - loss: 0.0511 - acc: 0.9798 - val_loss: 0.0521 - val_acc: 0.9755\n",
      "Epoch 48/100\n"
     ]
    },
    {
     "name": "stdout",
     "output_type": "stream",
     "text": [
      "3803/3803 [==============================] - 2s 589us/step - loss: 0.0517 - acc: 0.9792 - val_loss: 0.0528 - val_acc: 0.9742\n",
      "Epoch 49/100\n",
      "3803/3803 [==============================] - 2s 601us/step - loss: 0.0572 - acc: 0.9755 - val_loss: 0.0538 - val_acc: 0.9761\n",
      "Epoch 50/100\n",
      "3803/3803 [==============================] - 2s 617us/step - loss: 0.0547 - acc: 0.9753 - val_loss: 0.0526 - val_acc: 0.9755\n",
      "Epoch 51/100\n",
      "3803/3803 [==============================] - 2s 648us/step - loss: 0.0535 - acc: 0.9761 - val_loss: 0.0544 - val_acc: 0.9755\n",
      "Epoch 52/100\n",
      "3803/3803 [==============================] - 2s 517us/step - loss: 0.0512 - acc: 0.9769 - val_loss: 0.0533 - val_acc: 0.9773\n",
      "Epoch 53/100\n",
      "3803/3803 [==============================] - 2s 586us/step - loss: 0.0534 - acc: 0.9774 - val_loss: 0.0517 - val_acc: 0.9755\n",
      "Epoch 54/100\n",
      "3803/3803 [==============================] - 2s 617us/step - loss: 0.0554 - acc: 0.9758 - val_loss: 0.0500 - val_acc: 0.9755\n",
      "Epoch 55/100\n",
      "3803/3803 [==============================] - 2s 651us/step - loss: 0.0521 - acc: 0.9787 - val_loss: 0.0522 - val_acc: 0.9724\n",
      "Epoch 56/100\n",
      "3803/3803 [==============================] - 2s 588us/step - loss: 0.0501 - acc: 0.9790 - val_loss: 0.0502 - val_acc: 0.9730\n",
      "Epoch 57/100\n",
      "3803/3803 [==============================] - 2s 622us/step - loss: 0.0555 - acc: 0.9753 - val_loss: 0.0534 - val_acc: 0.9736\n",
      "Epoch 58/100\n",
      "3803/3803 [==============================] - 3s 750us/step - loss: 0.0516 - acc: 0.9784 - val_loss: 0.0496 - val_acc: 0.9755\n",
      "Epoch 59/100\n",
      "3803/3803 [==============================] - 3s 830us/step - loss: 0.0509 - acc: 0.9776 - val_loss: 0.0508 - val_acc: 0.9761\n",
      "Epoch 60/100\n",
      "3803/3803 [==============================] - 3s 724us/step - loss: 0.0522 - acc: 0.9771 - val_loss: 0.0501 - val_acc: 0.9742\n",
      "Epoch 61/100\n",
      "3803/3803 [==============================] - 3s 698us/step - loss: 0.0522 - acc: 0.9782 - val_loss: 0.0507 - val_acc: 0.9761\n",
      "Epoch 62/100\n",
      "3803/3803 [==============================] - 2s 644us/step - loss: 0.0534 - acc: 0.9755 - val_loss: 0.0559 - val_acc: 0.9736\n",
      "Epoch 63/100\n",
      "3803/3803 [==============================] - 3s 717us/step - loss: 0.0507 - acc: 0.9790 - val_loss: 0.0513 - val_acc: 0.9755\n",
      "Epoch 64/100\n",
      "3803/3803 [==============================] - 3s 780us/step - loss: 0.0466 - acc: 0.9805 - val_loss: 0.0512 - val_acc: 0.9761\n",
      "Epoch 65/100\n",
      "3803/3803 [==============================] - 3s 671us/step - loss: 0.0535 - acc: 0.9790 - val_loss: 0.0513 - val_acc: 0.9761\n",
      "Epoch 66/100\n",
      "3803/3803 [==============================] - 3s 693us/step - loss: 0.0550 - acc: 0.9755 - val_loss: 0.0521 - val_acc: 0.9755\n",
      "Epoch 67/100\n",
      "3803/3803 [==============================] - 3s 791us/step - loss: 0.0495 - acc: 0.9798 - val_loss: 0.0556 - val_acc: 0.9755\n",
      "Epoch 68/100\n",
      "3803/3803 [==============================] - 3s 727us/step - loss: 0.0497 - acc: 0.9787 - val_loss: 0.0521 - val_acc: 0.9755\n",
      "Epoch 69/100\n",
      "3803/3803 [==============================] - 2s 649us/step - loss: 0.0472 - acc: 0.9792 - val_loss: 0.0559 - val_acc: 0.9755\n",
      "Epoch 70/100\n",
      "3803/3803 [==============================] - 3s 766us/step - loss: 0.0521 - acc: 0.9784 - val_loss: 0.0527 - val_acc: 0.9761\n",
      "Epoch 71/100\n",
      "3803/3803 [==============================] - 3s 778us/step - loss: 0.0520 - acc: 0.9779 - val_loss: 0.0552 - val_acc: 0.9755\n",
      "Epoch 72/100\n",
      "3803/3803 [==============================] - 3s 743us/step - loss: 0.0543 - acc: 0.9742 - val_loss: 0.0532 - val_acc: 0.9742\n",
      "Epoch 73/100\n",
      "3803/3803 [==============================] - 3s 727us/step - loss: 0.0503 - acc: 0.9790 - val_loss: 0.0522 - val_acc: 0.9755\n",
      "Epoch 74/100\n",
      "3803/3803 [==============================] - 3s 839us/step - loss: 0.0467 - acc: 0.9813 - val_loss: 0.0573 - val_acc: 0.9755\n",
      "Epoch 75/100\n",
      "3803/3803 [==============================] - 3s 697us/step - loss: 0.0504 - acc: 0.9779 - val_loss: 0.0513 - val_acc: 0.9755\n",
      "Epoch 76/100\n",
      "3803/3803 [==============================] - 3s 818us/step - loss: 0.0470 - acc: 0.9808 - val_loss: 0.0551 - val_acc: 0.9755\n",
      "Epoch 77/100\n",
      "3803/3803 [==============================] - 3s 813us/step - loss: 0.0518 - acc: 0.9776 - val_loss: 0.0528 - val_acc: 0.9742\n",
      "Epoch 78/100\n",
      "3803/3803 [==============================] - 3s 719us/step - loss: 0.0517 - acc: 0.9784 - val_loss: 0.0514 - val_acc: 0.9742\n",
      "Epoch 79/100\n",
      "3803/3803 [==============================] - 3s 814us/step - loss: 0.0509 - acc: 0.9774 - val_loss: 0.0529 - val_acc: 0.9755\n",
      "Epoch 80/100\n",
      "3803/3803 [==============================] - 3s 808us/step - loss: 0.0520 - acc: 0.9774 - val_loss: 0.0526 - val_acc: 0.9755\n",
      "Epoch 81/100\n",
      "3803/3803 [==============================] - 3s 777us/step - loss: 0.0508 - acc: 0.9761 - val_loss: 0.0568 - val_acc: 0.9767\n",
      "Epoch 82/100\n",
      "3803/3803 [==============================] - 3s 682us/step - loss: 0.0507 - acc: 0.9763 - val_loss: 0.0534 - val_acc: 0.9755\n",
      "Epoch 83/100\n",
      "3803/3803 [==============================] - 3s 711us/step - loss: 0.0518 - acc: 0.9776 - val_loss: 0.0532 - val_acc: 0.9736\n",
      "Epoch 84/100\n",
      "3803/3803 [==============================] - 3s 763us/step - loss: 0.0473 - acc: 0.9790 - val_loss: 0.0524 - val_acc: 0.9755\n",
      "Epoch 85/100\n",
      "3803/3803 [==============================] - 3s 750us/step - loss: 0.0543 - acc: 0.9755 - val_loss: 0.0534 - val_acc: 0.9761\n",
      "Epoch 86/100\n",
      "3803/3803 [==============================] - 3s 731us/step - loss: 0.0469 - acc: 0.9792 - val_loss: 0.0515 - val_acc: 0.9755\n",
      "Epoch 87/100\n",
      "3803/3803 [==============================] - 3s 767us/step - loss: 0.0521 - acc: 0.9787 - val_loss: 0.0608 - val_acc: 0.9755\n",
      "Epoch 88/100\n",
      "3803/3803 [==============================] - 3s 792us/step - loss: 0.0498 - acc: 0.9771 - val_loss: 0.0547 - val_acc: 0.9736\n",
      "Epoch 89/100\n",
      "3803/3803 [==============================] - 3s 766us/step - loss: 0.0497 - acc: 0.9774 - val_loss: 0.0584 - val_acc: 0.9755\n",
      "Epoch 90/100\n",
      "3803/3803 [==============================] - 3s 757us/step - loss: 0.0470 - acc: 0.9792 - val_loss: 0.0526 - val_acc: 0.9742\n",
      "Epoch 91/100\n",
      "3803/3803 [==============================] - 3s 725us/step - loss: 0.0487 - acc: 0.9787 - val_loss: 0.0542 - val_acc: 0.9755\n",
      "Epoch 92/100\n",
      "3803/3803 [==============================] - 3s 843us/step - loss: 0.0512 - acc: 0.9761 - val_loss: 0.0590 - val_acc: 0.9755\n",
      "Epoch 93/100\n",
      "3803/3803 [==============================] - 3s 740us/step - loss: 0.0476 - acc: 0.9808 - val_loss: 0.0552 - val_acc: 0.9773\n",
      "Epoch 94/100\n",
      "3803/3803 [==============================] - 3s 731us/step - loss: 0.0505 - acc: 0.9800 - val_loss: 0.0534 - val_acc: 0.9755\n",
      "Epoch 95/100\n",
      "3803/3803 [==============================] - 3s 791us/step - loss: 0.0496 - acc: 0.9790 - val_loss: 0.0569 - val_acc: 0.9755\n",
      "Epoch 96/100\n",
      "3803/3803 [==============================] - 3s 756us/step - loss: 0.0522 - acc: 0.9782 - val_loss: 0.0536 - val_acc: 0.9755\n",
      "Epoch 97/100\n",
      "3803/3803 [==============================] - 3s 797us/step - loss: 0.0499 - acc: 0.9795 - val_loss: 0.0644 - val_acc: 0.9755\n",
      "Epoch 98/100\n",
      "3803/3803 [==============================] - 3s 786us/step - loss: 0.0483 - acc: 0.9808 - val_loss: 0.0514 - val_acc: 0.9785\n",
      "Epoch 99/100\n",
      "3803/3803 [==============================] - 3s 833us/step - loss: 0.0484 - acc: 0.9792 - val_loss: 0.0588 - val_acc: 0.9755\n",
      "Epoch 100/100\n",
      "3803/3803 [==============================] - 3s 829us/step - loss: 0.0509 - acc: 0.9795 - val_loss: 0.0547 - val_acc: 0.9755\n"
     ]
    },
    {
     "data": {
      "text/plain": [
       "<keras.callbacks.History at 0x218cd407b88>"
      ]
     },
     "execution_count": 18,
     "metadata": {},
     "output_type": "execute_result"
    }
   ],
   "source": [
    "classifier.fit(X_train, Y_train, batch_size=10, nb_epoch=100,\n",
    "            verbose=1, validation_data=(X_test, Y_test))\n"
   ]
  },
  {
   "cell_type": "code",
   "execution_count": 25,
   "metadata": {},
   "outputs": [],
   "source": [
    "from sklearn.linear_model import LogisticRegression\n",
    "lr= LogisticRegression()"
   ]
  },
  {
   "cell_type": "code",
   "execution_count": 26,
   "metadata": {},
   "outputs": [
    {
     "name": "stderr",
     "output_type": "stream",
     "text": [
      "C:\\Users\\Mainak\\Anaconda3\\lib\\site-packages\\sklearn\\utils\\validation.py:760: DataConversionWarning: A column-vector y was passed when a 1d array was expected. Please change the shape of y to (n_samples, ), for example using ravel().\n",
      "  y = column_or_1d(y, warn=True)\n"
     ]
    },
    {
     "data": {
      "text/plain": [
       "LogisticRegression(C=1.0, class_weight=None, dual=False, fit_intercept=True,\n",
       "                   intercept_scaling=1, l1_ratio=None, max_iter=100,\n",
       "                   multi_class='auto', n_jobs=None, penalty='l2',\n",
       "                   random_state=None, solver='lbfgs', tol=0.0001, verbose=0,\n",
       "                   warm_start=False)"
      ]
     },
     "execution_count": 26,
     "metadata": {},
     "output_type": "execute_result"
    }
   ],
   "source": [
    "lr.fit(X_train,Y_train)"
   ]
  },
  {
   "cell_type": "code",
   "execution_count": 27,
   "metadata": {},
   "outputs": [],
   "source": [
    "from sklearn.metrics import accuracy_score,confusion_matrix"
   ]
  },
  {
   "cell_type": "code",
   "execution_count": 28,
   "metadata": {},
   "outputs": [],
   "source": [
    "pr=lr.predict(X_test)"
   ]
  },
  {
   "cell_type": "code",
   "execution_count": 29,
   "metadata": {},
   "outputs": [
    {
     "name": "stdout",
     "output_type": "stream",
     "text": [
      "[[ 275   43]\n",
      " [  19 1294]]\n",
      "accuracy is 0.9619865113427345\n"
     ]
    }
   ],
   "source": [
    "print(confusion_matrix(Y_test,pr))\n",
    "print('accuracy is',accuracy_score(Y_test,pr))"
   ]
  },
  {
   "cell_type": "code",
   "execution_count": 30,
   "metadata": {},
   "outputs": [],
   "source": [
    "y_pred = classifier.predict(X_test)\n",
    "y_pred = (y_pred > 0.5)\n"
   ]
  },
  {
   "cell_type": "code",
   "execution_count": 20,
   "metadata": {},
   "outputs": [
    {
     "data": {
      "text/plain": [
       "array([[ True],\n",
       "       [ True],\n",
       "       [ True],\n",
       "       ...,\n",
       "       [ True],\n",
       "       [ True],\n",
       "       [ True]])"
      ]
     },
     "execution_count": 20,
     "metadata": {},
     "output_type": "execute_result"
    }
   ],
   "source": [
    "y_pred"
   ]
  },
  {
   "cell_type": "code",
   "execution_count": 38,
   "metadata": {},
   "outputs": [],
   "source": [
    "import numpy as np\n",
    "from sklearn.preprocessing import StandardScaler\n",
    "sc = StandardScaler()\n",
    "result = classifier.predict(sc.fit_transform(np.array([[0,0,0,0,0,1,0,0,1,0,0,0,0,0,0,0,1,1,1,1]])))"
   ]
  },
  {
   "cell_type": "code",
   "execution_count": 32,
   "metadata": {},
   "outputs": [],
   "source": [
    "res = lr.predict([[0,0,0,0,0,1,0,0,1,0,0,0,0,0,0,0,1,1,1,1]])\n"
   ]
  },
  {
   "cell_type": "code",
   "execution_count": 33,
   "metadata": {},
   "outputs": [
    {
     "name": "stdout",
     "output_type": "stream",
     "text": [
      "[0]\n"
     ]
    }
   ],
   "source": [
    "print(res)"
   ]
  },
  {
   "cell_type": "code",
   "execution_count": 39,
   "metadata": {},
   "outputs": [
    {
     "name": "stdout",
     "output_type": "stream",
     "text": [
      "[[0.]]\n"
     ]
    }
   ],
   "source": [
    "print(result)"
   ]
  },
  {
   "cell_type": "code",
   "execution_count": null,
   "metadata": {},
   "outputs": [],
   "source": []
  }
 ],
 "metadata": {
  "kernelspec": {
   "display_name": "Python 3",
   "language": "python",
   "name": "python3"
  },
  "language_info": {
   "codemirror_mode": {
    "name": "ipython",
    "version": 3
   },
   "file_extension": ".py",
   "mimetype": "text/x-python",
   "name": "python",
   "nbconvert_exporter": "python",
   "pygments_lexer": "ipython3",
   "version": "3.7.7"
  }
 },
 "nbformat": 4,
 "nbformat_minor": 4
}
