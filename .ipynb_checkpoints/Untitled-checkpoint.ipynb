{
 "cells": [
  {
   "cell_type": "code",
   "execution_count": 6,
   "metadata": {},
   "outputs": [
    {
     "name": "stdout",
     "output_type": "stream",
     "text": [
      "The Shape Of The Data is : (5434, 21)\n"
     ]
    }
   ],
   "source": [
    "import pandas as pd\n",
    "df = pd.read_csv('Covid_Dataset.csv')\n",
    "print(\"The Shape Of The Data is :\",df.shape)\n"
   ]
  },
  {
   "cell_type": "code",
   "execution_count": 7,
   "metadata": {},
   "outputs": [
    {
     "name": "stdout",
     "output_type": "stream",
     "text": [
      "  Breathing Problem Fever Dry Cough Sore throat Running Nose Asthma  \\\n",
      "0               Yes   Yes       Yes         Yes          Yes     No   \n",
      "1               Yes   Yes       Yes         Yes           No    Yes   \n",
      "2               Yes   Yes       Yes         Yes          Yes    Yes   \n",
      "3               Yes   Yes       Yes          No           No    Yes   \n",
      "4               Yes   Yes       Yes         Yes          Yes     No   \n",
      "5               Yes   Yes       Yes          No           No     No   \n",
      "6               Yes   Yes       Yes          No           No     No   \n",
      "7               Yes   Yes       Yes          No          Yes    Yes   \n",
      "8               Yes   Yes       Yes          No          Yes     No   \n",
      "9               Yes   Yes       Yes          No           No    Yes   \n",
      "\n",
      "  Chronic Lung Disease Headache Heart Disease Diabetes  ... Fatigue   \\\n",
      "0                   No       No            No      Yes  ...      Yes   \n",
      "1                  Yes      Yes            No       No  ...      Yes   \n",
      "2                  Yes      Yes            No      Yes  ...      Yes   \n",
      "3                   No       No           Yes      Yes  ...       No   \n",
      "4                  Yes      Yes           Yes      Yes  ...       No   \n",
      "5                   No       No           Yes       No  ...       No   \n",
      "6                  Yes       No           Yes      Yes  ...      Yes   \n",
      "7                   No       No            No      Yes  ...       No   \n",
      "8                  Yes       No            No      Yes  ...      Yes   \n",
      "9                   No       No            No      Yes  ...      Yes   \n",
      "\n",
      "  Gastrointestinal  Abroad travel Contact with COVID Patient  \\\n",
      "0               Yes            No                        Yes   \n",
      "1                No            No                         No   \n",
      "2               Yes           Yes                         No   \n",
      "3                No           Yes                         No   \n",
      "4               Yes            No                        Yes   \n",
      "5                No            No                         No   \n",
      "6               Yes            No                         No   \n",
      "7               Yes           Yes                         No   \n",
      "8                No           Yes                        Yes   \n",
      "9                No            No                         No   \n",
      "\n",
      "  Attended Large Gathering Visited Public Exposed Places  \\\n",
      "0                       No                           Yes   \n",
      "1                      Yes                           Yes   \n",
      "2                       No                            No   \n",
      "3                      Yes                           Yes   \n",
      "4                       No                           Yes   \n",
      "5                       No                            No   \n",
      "6                      Yes                           Yes   \n",
      "7                       No                           Yes   \n",
      "8                      Yes                            No   \n",
      "9                       No                           Yes   \n",
      "\n",
      "  Family working in Public Exposed Places Wearing Masks  \\\n",
      "0                                     Yes            No   \n",
      "1                                      No            No   \n",
      "2                                      No            No   \n",
      "3                                      No            No   \n",
      "4                                      No            No   \n",
      "5                                      No            No   \n",
      "6                                     Yes            No   \n",
      "7                                      No            No   \n",
      "8                                      No            No   \n",
      "9                                      No            No   \n",
      "\n",
      "  Sanitization from Market COVID-19  \n",
      "0                       No      Yes  \n",
      "1                       No      Yes  \n",
      "2                       No      Yes  \n",
      "3                       No      Yes  \n",
      "4                       No      Yes  \n",
      "5                       No      Yes  \n",
      "6                       No      Yes  \n",
      "7                       No      Yes  \n",
      "8                       No      Yes  \n",
      "9                       No      Yes  \n",
      "\n",
      "[10 rows x 21 columns]\n"
     ]
    }
   ],
   "source": [
    "print(df.head(10))\n"
   ]
  },
  {
   "cell_type": "code",
   "execution_count": 8,
   "metadata": {},
   "outputs": [],
   "source": [
    "from sklearn.preprocessing import LabelEncoder\n",
    "l=LabelEncoder()"
   ]
  },
  {
   "cell_type": "code",
   "execution_count": 9,
   "metadata": {},
   "outputs": [],
   "source": [
    "df=df.apply(l.fit_transform).astype(int)"
   ]
  },
  {
   "cell_type": "code",
   "execution_count": 10,
   "metadata": {},
   "outputs": [],
   "source": [
    "cor=df.corr()"
   ]
  },
  {
   "cell_type": "code",
   "execution_count": 11,
   "metadata": {},
   "outputs": [],
   "source": [
    "x=df.iloc[:,[0,1,2,3,4,5,6,7,8,9,10,11,12,13,14,15,16,17,18,19]]\n",
    "y=df.iloc[:,[20]]"
   ]
  },
  {
   "cell_type": "code",
   "execution_count": 12,
   "metadata": {},
   "outputs": [
    {
     "data": {
      "text/html": [
       "<div>\n",
       "<style scoped>\n",
       "    .dataframe tbody tr th:only-of-type {\n",
       "        vertical-align: middle;\n",
       "    }\n",
       "\n",
       "    .dataframe tbody tr th {\n",
       "        vertical-align: top;\n",
       "    }\n",
       "\n",
       "    .dataframe thead th {\n",
       "        text-align: right;\n",
       "    }\n",
       "</style>\n",
       "<table border=\"1\" class=\"dataframe\">\n",
       "  <thead>\n",
       "    <tr style=\"text-align: right;\">\n",
       "      <th></th>\n",
       "      <th>Breathing Problem</th>\n",
       "      <th>Fever</th>\n",
       "      <th>Dry Cough</th>\n",
       "      <th>Sore throat</th>\n",
       "      <th>Running Nose</th>\n",
       "      <th>Asthma</th>\n",
       "      <th>Chronic Lung Disease</th>\n",
       "      <th>Headache</th>\n",
       "      <th>Heart Disease</th>\n",
       "      <th>Diabetes</th>\n",
       "      <th>Hyper Tension</th>\n",
       "      <th>Fatigue</th>\n",
       "      <th>Gastrointestinal</th>\n",
       "      <th>Abroad travel</th>\n",
       "      <th>Contact with COVID Patient</th>\n",
       "      <th>Attended Large Gathering</th>\n",
       "      <th>Visited Public Exposed Places</th>\n",
       "      <th>Family working in Public Exposed Places</th>\n",
       "      <th>Wearing Masks</th>\n",
       "      <th>Sanitization from Market</th>\n",
       "    </tr>\n",
       "  </thead>\n",
       "  <tbody>\n",
       "    <tr>\n",
       "      <th>0</th>\n",
       "      <td>1</td>\n",
       "      <td>1</td>\n",
       "      <td>1</td>\n",
       "      <td>1</td>\n",
       "      <td>1</td>\n",
       "      <td>0</td>\n",
       "      <td>0</td>\n",
       "      <td>0</td>\n",
       "      <td>0</td>\n",
       "      <td>1</td>\n",
       "      <td>1</td>\n",
       "      <td>1</td>\n",
       "      <td>1</td>\n",
       "      <td>0</td>\n",
       "      <td>1</td>\n",
       "      <td>0</td>\n",
       "      <td>1</td>\n",
       "      <td>1</td>\n",
       "      <td>0</td>\n",
       "      <td>0</td>\n",
       "    </tr>\n",
       "    <tr>\n",
       "      <th>1</th>\n",
       "      <td>1</td>\n",
       "      <td>1</td>\n",
       "      <td>1</td>\n",
       "      <td>1</td>\n",
       "      <td>0</td>\n",
       "      <td>1</td>\n",
       "      <td>1</td>\n",
       "      <td>1</td>\n",
       "      <td>0</td>\n",
       "      <td>0</td>\n",
       "      <td>0</td>\n",
       "      <td>1</td>\n",
       "      <td>0</td>\n",
       "      <td>0</td>\n",
       "      <td>0</td>\n",
       "      <td>1</td>\n",
       "      <td>1</td>\n",
       "      <td>0</td>\n",
       "      <td>0</td>\n",
       "      <td>0</td>\n",
       "    </tr>\n",
       "    <tr>\n",
       "      <th>2</th>\n",
       "      <td>1</td>\n",
       "      <td>1</td>\n",
       "      <td>1</td>\n",
       "      <td>1</td>\n",
       "      <td>1</td>\n",
       "      <td>1</td>\n",
       "      <td>1</td>\n",
       "      <td>1</td>\n",
       "      <td>0</td>\n",
       "      <td>1</td>\n",
       "      <td>0</td>\n",
       "      <td>1</td>\n",
       "      <td>1</td>\n",
       "      <td>1</td>\n",
       "      <td>0</td>\n",
       "      <td>0</td>\n",
       "      <td>0</td>\n",
       "      <td>0</td>\n",
       "      <td>0</td>\n",
       "      <td>0</td>\n",
       "    </tr>\n",
       "    <tr>\n",
       "      <th>3</th>\n",
       "      <td>1</td>\n",
       "      <td>1</td>\n",
       "      <td>1</td>\n",
       "      <td>0</td>\n",
       "      <td>0</td>\n",
       "      <td>1</td>\n",
       "      <td>0</td>\n",
       "      <td>0</td>\n",
       "      <td>1</td>\n",
       "      <td>1</td>\n",
       "      <td>0</td>\n",
       "      <td>0</td>\n",
       "      <td>0</td>\n",
       "      <td>1</td>\n",
       "      <td>0</td>\n",
       "      <td>1</td>\n",
       "      <td>1</td>\n",
       "      <td>0</td>\n",
       "      <td>0</td>\n",
       "      <td>0</td>\n",
       "    </tr>\n",
       "    <tr>\n",
       "      <th>4</th>\n",
       "      <td>1</td>\n",
       "      <td>1</td>\n",
       "      <td>1</td>\n",
       "      <td>1</td>\n",
       "      <td>1</td>\n",
       "      <td>0</td>\n",
       "      <td>1</td>\n",
       "      <td>1</td>\n",
       "      <td>1</td>\n",
       "      <td>1</td>\n",
       "      <td>1</td>\n",
       "      <td>0</td>\n",
       "      <td>1</td>\n",
       "      <td>0</td>\n",
       "      <td>1</td>\n",
       "      <td>0</td>\n",
       "      <td>1</td>\n",
       "      <td>0</td>\n",
       "      <td>0</td>\n",
       "      <td>0</td>\n",
       "    </tr>\n",
       "    <tr>\n",
       "      <th>...</th>\n",
       "      <td>...</td>\n",
       "      <td>...</td>\n",
       "      <td>...</td>\n",
       "      <td>...</td>\n",
       "      <td>...</td>\n",
       "      <td>...</td>\n",
       "      <td>...</td>\n",
       "      <td>...</td>\n",
       "      <td>...</td>\n",
       "      <td>...</td>\n",
       "      <td>...</td>\n",
       "      <td>...</td>\n",
       "      <td>...</td>\n",
       "      <td>...</td>\n",
       "      <td>...</td>\n",
       "      <td>...</td>\n",
       "      <td>...</td>\n",
       "      <td>...</td>\n",
       "      <td>...</td>\n",
       "      <td>...</td>\n",
       "    </tr>\n",
       "    <tr>\n",
       "      <th>5429</th>\n",
       "      <td>1</td>\n",
       "      <td>1</td>\n",
       "      <td>0</td>\n",
       "      <td>1</td>\n",
       "      <td>1</td>\n",
       "      <td>1</td>\n",
       "      <td>1</td>\n",
       "      <td>0</td>\n",
       "      <td>0</td>\n",
       "      <td>0</td>\n",
       "      <td>0</td>\n",
       "      <td>1</td>\n",
       "      <td>1</td>\n",
       "      <td>0</td>\n",
       "      <td>0</td>\n",
       "      <td>0</td>\n",
       "      <td>0</td>\n",
       "      <td>0</td>\n",
       "      <td>0</td>\n",
       "      <td>0</td>\n",
       "    </tr>\n",
       "    <tr>\n",
       "      <th>5430</th>\n",
       "      <td>1</td>\n",
       "      <td>1</td>\n",
       "      <td>1</td>\n",
       "      <td>0</td>\n",
       "      <td>1</td>\n",
       "      <td>1</td>\n",
       "      <td>0</td>\n",
       "      <td>1</td>\n",
       "      <td>0</td>\n",
       "      <td>1</td>\n",
       "      <td>1</td>\n",
       "      <td>1</td>\n",
       "      <td>0</td>\n",
       "      <td>0</td>\n",
       "      <td>0</td>\n",
       "      <td>0</td>\n",
       "      <td>0</td>\n",
       "      <td>0</td>\n",
       "      <td>0</td>\n",
       "      <td>0</td>\n",
       "    </tr>\n",
       "    <tr>\n",
       "      <th>5431</th>\n",
       "      <td>1</td>\n",
       "      <td>1</td>\n",
       "      <td>1</td>\n",
       "      <td>0</td>\n",
       "      <td>0</td>\n",
       "      <td>0</td>\n",
       "      <td>0</td>\n",
       "      <td>0</td>\n",
       "      <td>1</td>\n",
       "      <td>0</td>\n",
       "      <td>1</td>\n",
       "      <td>0</td>\n",
       "      <td>0</td>\n",
       "      <td>0</td>\n",
       "      <td>0</td>\n",
       "      <td>0</td>\n",
       "      <td>0</td>\n",
       "      <td>0</td>\n",
       "      <td>0</td>\n",
       "      <td>0</td>\n",
       "    </tr>\n",
       "    <tr>\n",
       "      <th>5432</th>\n",
       "      <td>1</td>\n",
       "      <td>1</td>\n",
       "      <td>1</td>\n",
       "      <td>0</td>\n",
       "      <td>1</td>\n",
       "      <td>0</td>\n",
       "      <td>0</td>\n",
       "      <td>1</td>\n",
       "      <td>1</td>\n",
       "      <td>0</td>\n",
       "      <td>0</td>\n",
       "      <td>0</td>\n",
       "      <td>0</td>\n",
       "      <td>0</td>\n",
       "      <td>0</td>\n",
       "      <td>0</td>\n",
       "      <td>0</td>\n",
       "      <td>0</td>\n",
       "      <td>0</td>\n",
       "      <td>0</td>\n",
       "    </tr>\n",
       "    <tr>\n",
       "      <th>5433</th>\n",
       "      <td>1</td>\n",
       "      <td>1</td>\n",
       "      <td>1</td>\n",
       "      <td>0</td>\n",
       "      <td>1</td>\n",
       "      <td>1</td>\n",
       "      <td>0</td>\n",
       "      <td>1</td>\n",
       "      <td>0</td>\n",
       "      <td>1</td>\n",
       "      <td>1</td>\n",
       "      <td>1</td>\n",
       "      <td>0</td>\n",
       "      <td>0</td>\n",
       "      <td>0</td>\n",
       "      <td>0</td>\n",
       "      <td>0</td>\n",
       "      <td>0</td>\n",
       "      <td>0</td>\n",
       "      <td>0</td>\n",
       "    </tr>\n",
       "  </tbody>\n",
       "</table>\n",
       "<p>5434 rows × 20 columns</p>\n",
       "</div>"
      ],
      "text/plain": [
       "      Breathing Problem  Fever  Dry Cough  Sore throat  Running Nose  Asthma  \\\n",
       "0                     1      1          1            1             1       0   \n",
       "1                     1      1          1            1             0       1   \n",
       "2                     1      1          1            1             1       1   \n",
       "3                     1      1          1            0             0       1   \n",
       "4                     1      1          1            1             1       0   \n",
       "...                 ...    ...        ...          ...           ...     ...   \n",
       "5429                  1      1          0            1             1       1   \n",
       "5430                  1      1          1            0             1       1   \n",
       "5431                  1      1          1            0             0       0   \n",
       "5432                  1      1          1            0             1       0   \n",
       "5433                  1      1          1            0             1       1   \n",
       "\n",
       "      Chronic Lung Disease  Headache  Heart Disease  Diabetes  Hyper Tension  \\\n",
       "0                        0         0              0         1              1   \n",
       "1                        1         1              0         0              0   \n",
       "2                        1         1              0         1              0   \n",
       "3                        0         0              1         1              0   \n",
       "4                        1         1              1         1              1   \n",
       "...                    ...       ...            ...       ...            ...   \n",
       "5429                     1         0              0         0              0   \n",
       "5430                     0         1              0         1              1   \n",
       "5431                     0         0              1         0              1   \n",
       "5432                     0         1              1         0              0   \n",
       "5433                     0         1              0         1              1   \n",
       "\n",
       "      Fatigue   Gastrointestinal   Abroad travel  Contact with COVID Patient  \\\n",
       "0            1                  1              0                           1   \n",
       "1            1                  0              0                           0   \n",
       "2            1                  1              1                           0   \n",
       "3            0                  0              1                           0   \n",
       "4            0                  1              0                           1   \n",
       "...        ...                ...            ...                         ...   \n",
       "5429         1                  1              0                           0   \n",
       "5430         1                  0              0                           0   \n",
       "5431         0                  0              0                           0   \n",
       "5432         0                  0              0                           0   \n",
       "5433         1                  0              0                           0   \n",
       "\n",
       "      Attended Large Gathering  Visited Public Exposed Places  \\\n",
       "0                            0                              1   \n",
       "1                            1                              1   \n",
       "2                            0                              0   \n",
       "3                            1                              1   \n",
       "4                            0                              1   \n",
       "...                        ...                            ...   \n",
       "5429                         0                              0   \n",
       "5430                         0                              0   \n",
       "5431                         0                              0   \n",
       "5432                         0                              0   \n",
       "5433                         0                              0   \n",
       "\n",
       "      Family working in Public Exposed Places  Wearing Masks  \\\n",
       "0                                           1              0   \n",
       "1                                           0              0   \n",
       "2                                           0              0   \n",
       "3                                           0              0   \n",
       "4                                           0              0   \n",
       "...                                       ...            ...   \n",
       "5429                                        0              0   \n",
       "5430                                        0              0   \n",
       "5431                                        0              0   \n",
       "5432                                        0              0   \n",
       "5433                                        0              0   \n",
       "\n",
       "      Sanitization from Market  \n",
       "0                            0  \n",
       "1                            0  \n",
       "2                            0  \n",
       "3                            0  \n",
       "4                            0  \n",
       "...                        ...  \n",
       "5429                         0  \n",
       "5430                         0  \n",
       "5431                         0  \n",
       "5432                         0  \n",
       "5433                         0  \n",
       "\n",
       "[5434 rows x 20 columns]"
      ]
     },
     "execution_count": 12,
     "metadata": {},
     "output_type": "execute_result"
    }
   ],
   "source": [
    "x\n"
   ]
  },
  {
   "cell_type": "code",
   "execution_count": 13,
   "metadata": {},
   "outputs": [
    {
     "data": {
      "text/html": [
       "<div>\n",
       "<style scoped>\n",
       "    .dataframe tbody tr th:only-of-type {\n",
       "        vertical-align: middle;\n",
       "    }\n",
       "\n",
       "    .dataframe tbody tr th {\n",
       "        vertical-align: top;\n",
       "    }\n",
       "\n",
       "    .dataframe thead th {\n",
       "        text-align: right;\n",
       "    }\n",
       "</style>\n",
       "<table border=\"1\" class=\"dataframe\">\n",
       "  <thead>\n",
       "    <tr style=\"text-align: right;\">\n",
       "      <th></th>\n",
       "      <th>COVID-19</th>\n",
       "    </tr>\n",
       "  </thead>\n",
       "  <tbody>\n",
       "    <tr>\n",
       "      <th>0</th>\n",
       "      <td>1</td>\n",
       "    </tr>\n",
       "    <tr>\n",
       "      <th>1</th>\n",
       "      <td>1</td>\n",
       "    </tr>\n",
       "    <tr>\n",
       "      <th>2</th>\n",
       "      <td>1</td>\n",
       "    </tr>\n",
       "    <tr>\n",
       "      <th>3</th>\n",
       "      <td>1</td>\n",
       "    </tr>\n",
       "    <tr>\n",
       "      <th>4</th>\n",
       "      <td>1</td>\n",
       "    </tr>\n",
       "    <tr>\n",
       "      <th>...</th>\n",
       "      <td>...</td>\n",
       "    </tr>\n",
       "    <tr>\n",
       "      <th>5429</th>\n",
       "      <td>1</td>\n",
       "    </tr>\n",
       "    <tr>\n",
       "      <th>5430</th>\n",
       "      <td>1</td>\n",
       "    </tr>\n",
       "    <tr>\n",
       "      <th>5431</th>\n",
       "      <td>0</td>\n",
       "    </tr>\n",
       "    <tr>\n",
       "      <th>5432</th>\n",
       "      <td>0</td>\n",
       "    </tr>\n",
       "    <tr>\n",
       "      <th>5433</th>\n",
       "      <td>0</td>\n",
       "    </tr>\n",
       "  </tbody>\n",
       "</table>\n",
       "<p>5434 rows × 1 columns</p>\n",
       "</div>"
      ],
      "text/plain": [
       "      COVID-19\n",
       "0            1\n",
       "1            1\n",
       "2            1\n",
       "3            1\n",
       "4            1\n",
       "...        ...\n",
       "5429         1\n",
       "5430         1\n",
       "5431         0\n",
       "5432         0\n",
       "5433         0\n",
       "\n",
       "[5434 rows x 1 columns]"
      ]
     },
     "execution_count": 13,
     "metadata": {},
     "output_type": "execute_result"
    }
   ],
   "source": [
    "y"
   ]
  },
  {
   "cell_type": "code",
   "execution_count": 15,
   "metadata": {},
   "outputs": [
    {
     "data": {
      "text/plain": [
       "(5434, 20)"
      ]
     },
     "execution_count": 15,
     "metadata": {},
     "output_type": "execute_result"
    }
   ],
   "source": [
    "x.shape"
   ]
  },
  {
   "cell_type": "code",
   "execution_count": 17,
   "metadata": {},
   "outputs": [],
   "source": [
    "from sklearn.preprocessing import StandardScaler\n",
    "from sklearn.metrics import precision_recall_fscore_support\n",
    "from sklearn.model_selection import train_test_split\n",
    "X_train, X_test, Y_train, Y_test = train_test_split(x, y, test_size=0.3, random_state= 0)"
   ]
  },
  {
   "cell_type": "code",
   "execution_count": 53,
   "metadata": {},
   "outputs": [],
   "source": [
    "import keras\n",
    "from keras.models import Sequential\n",
    "from keras.layers import Dense\n",
    "from keras.layers import Dropout"
   ]
  },
  {
   "cell_type": "code",
   "execution_count": 54,
   "metadata": {},
   "outputs": [],
   "source": [
    "classifier = Sequential()"
   ]
  },
  {
   "cell_type": "code",
   "execution_count": 52,
   "metadata": {},
   "outputs": [
    {
     "name": "stdout",
     "output_type": "stream",
     "text": [
      "WARNING:tensorflow:From C:\\Users\\Mainak\\Anaconda3\\lib\\site-packages\\keras\\backend\\tensorflow_backend.py:133: The name tf.placeholder_with_default is deprecated. Please use tf.compat.v1.placeholder_with_default instead.\n",
      "\n"
     ]
    },
    {
     "name": "stderr",
     "output_type": "stream",
     "text": [
      "C:\\Users\\Mainak\\Anaconda3\\lib\\site-packages\\ipykernel_launcher.py:2: UserWarning: Update your `Dropout` call to the Keras 2 API: `Dropout(rate=0.1)`\n",
      "  \n"
     ]
    },
    {
     "name": "stdout",
     "output_type": "stream",
     "text": [
      "WARNING:tensorflow:From C:\\Users\\Mainak\\Anaconda3\\lib\\site-packages\\keras\\backend\\tensorflow_backend.py:3445: calling dropout (from tensorflow.python.ops.nn_ops) with keep_prob is deprecated and will be removed in a future version.\n",
      "Instructions for updating:\n",
      "Please use `rate` instead of `keep_prob`. Rate should be set to `rate = 1 - keep_prob`.\n"
     ]
    }
   ],
   "source": [
    "classifier.add(Dense(6, input_dim = 20, kernel_initializer = 'glorot_uniform', activation = 'relu' ))\n",
    "classifier.add(Dropout(p = 0.1))"
   ]
  },
  {
   "cell_type": "code",
   "execution_count": 55,
   "metadata": {},
   "outputs": [
    {
     "name": "stderr",
     "output_type": "stream",
     "text": [
      "C:\\Users\\Mainak\\Anaconda3\\lib\\site-packages\\ipykernel_launcher.py:2: UserWarning: Update your `Dropout` call to the Keras 2 API: `Dropout(rate=0.1)`\n",
      "  \n"
     ]
    }
   ],
   "source": [
    "classifier.add(Dense(6, kernel_initializer = 'glorot_uniform', activation = 'relu' ))\n",
    "classifier.add(Dropout(p = 0.1))"
   ]
  },
  {
   "cell_type": "code",
   "execution_count": 57,
   "metadata": {},
   "outputs": [],
   "source": [
    "classifier.add(Dense(1, kernel_initializer = 'glorot_uniform', activation = 'sigmoid' ))"
   ]
  },
  {
   "cell_type": "code",
   "execution_count": 68,
   "metadata": {},
   "outputs": [],
   "source": [
    "classifier.compile(optimizer = 'adam', loss = 'binary_crossentropy', metrics = ['accuracy'])"
   ]
  },
  {
   "cell_type": "code",
   "execution_count": 70,
   "metadata": {},
   "outputs": [
    {
     "name": "stderr",
     "output_type": "stream",
     "text": [
      "C:\\Users\\Mainak\\Anaconda3\\lib\\site-packages\\ipykernel_launcher.py:1: UserWarning: The `nb_epoch` argument in `fit` has been renamed `epochs`.\n",
      "  \"\"\"Entry point for launching an IPython kernel.\n"
     ]
    },
    {
     "ename": "ValueError",
     "evalue": "Please provide as model inputs either a single array or a list of arrays. You passed: x=      Breathing Problem  Fever  Dry Cough  Sore throat  Running Nose  Asthma  \\\n4540                  1      0          1            0             0       0   \n2885                  1      1          0            1             0       0   \n3759                  0      1          1            1             0       0   \n2551                  0      1          1            1             1       0   \n4560                  1      0          1            1             0       0   \n...                 ...    ...        ...          ...           ...     ...   \n4931                  0      0          0            0             1       0   \n3264                  1      1          1            0             0       1   \n1653                  1      1          1            1             1       1   \n2607                  0      1          1            1             1       1   \n2732                  1      0          1            1             1       0   \n\n      Chronic Lung Disease  Headache  Heart Disease  Diabetes  Hyper Tension  \\\n4540                     1         0              1         0              0   \n2885                     1         1              1         1              0   \n3759                     0         0              0         0              0   \n2551                     0         0              0         0              0   \n4560                     0         1              0         1              0   \n...                    ...       ...            ...       ...            ...   \n4931                     0         1              0         1              0   \n3264                     1         1              1         0              1   \n1653                     1         1              1         1              0   \n2607                     0         1              0         0              1   \n2732                     1         1              1         0              0   \n\n      Fatigue   Gastrointestinal   Abroad travel  Contact with COVID Patient  \\\n4540         0                  0              0                           0   \n2885         0                  1              0                           1   \n3759         0                  1              1                           1   \n2551         1                  1              1                           0   \n4560         1                  0              0                           0   \n...        ...                ...            ...                         ...   \n4931         1                  1              0                           0   \n3264         1                  0              1                           1   \n1653         1                  1              0                           0   \n2607         0                  0              0                           1   \n2732         1                  0              0                           0   \n\n      Attended Large Gathering  Visited Public Exposed Places  \\\n4540                         0                              1   \n2885                         1                              0   \n3759                         0                              1   \n2551                         1                              1   \n4560                         0                              1   \n...                        ...                            ...   \n4931                         0                              0   \n3264                         0                              0   \n1653                         0                              1   \n2607                         0                              0   \n2732                         1                              0   \n\n      Family working in Public Exposed Places  Wearing Masks  \\\n4540                                        1              0   \n2885                                        0              0   \n3759                                        1              0   \n2551                                        1              0   \n4560                                        1              0   \n...                                       ...            ...   \n4931                                        0              0   \n3264                                        1              0   \n1653                                        1              0   \n2607                                        1              0   \n2732                                        0              0   \n\n      Sanitization from Market  \n4540                         0  \n2885                         0  \n3759                         0  \n2551                         0  \n4560                         0  \n...                        ...  \n4931                         0  \n3264                         0  \n1653                         0  \n2607                         0  \n2732                         0  \n\n[3803 rows x 20 columns]",
     "output_type": "error",
     "traceback": [
      "\u001b[1;31m---------------------------------------------------------------------------\u001b[0m",
      "\u001b[1;31mValueError\u001b[0m                                Traceback (most recent call last)",
      "\u001b[1;32m<ipython-input-70-6e45fc346a6e>\u001b[0m in \u001b[0;36m<module>\u001b[1;34m\u001b[0m\n\u001b[1;32m----> 1\u001b[1;33m \u001b[0mclassifier\u001b[0m\u001b[1;33m.\u001b[0m\u001b[0mfit\u001b[0m\u001b[1;33m(\u001b[0m\u001b[0mX_train\u001b[0m\u001b[1;33m,\u001b[0m \u001b[0mY_train\u001b[0m\u001b[1;33m,\u001b[0m \u001b[0mbatch_size\u001b[0m \u001b[1;33m=\u001b[0m \u001b[1;36m10\u001b[0m\u001b[1;33m,\u001b[0m \u001b[0mnb_epoch\u001b[0m \u001b[1;33m=\u001b[0m \u001b[1;36m100\u001b[0m\u001b[1;33m)\u001b[0m\u001b[1;33m\u001b[0m\u001b[1;33m\u001b[0m\u001b[0m\n\u001b[0m",
      "\u001b[1;32m~\\Anaconda3\\lib\\site-packages\\keras\\engine\\training.py\u001b[0m in \u001b[0;36mfit\u001b[1;34m(self, x, y, batch_size, epochs, verbose, callbacks, validation_split, validation_data, shuffle, class_weight, sample_weight, initial_epoch, steps_per_epoch, validation_steps, **kwargs)\u001b[0m\n\u001b[0;32m    950\u001b[0m             \u001b[0msample_weight\u001b[0m\u001b[1;33m=\u001b[0m\u001b[0msample_weight\u001b[0m\u001b[1;33m,\u001b[0m\u001b[1;33m\u001b[0m\u001b[1;33m\u001b[0m\u001b[0m\n\u001b[0;32m    951\u001b[0m             \u001b[0mclass_weight\u001b[0m\u001b[1;33m=\u001b[0m\u001b[0mclass_weight\u001b[0m\u001b[1;33m,\u001b[0m\u001b[1;33m\u001b[0m\u001b[1;33m\u001b[0m\u001b[0m\n\u001b[1;32m--> 952\u001b[1;33m             batch_size=batch_size)\n\u001b[0m\u001b[0;32m    953\u001b[0m         \u001b[1;31m# Prepare validation data.\u001b[0m\u001b[1;33m\u001b[0m\u001b[1;33m\u001b[0m\u001b[1;33m\u001b[0m\u001b[0m\n\u001b[0;32m    954\u001b[0m         \u001b[0mdo_validation\u001b[0m \u001b[1;33m=\u001b[0m \u001b[1;32mFalse\u001b[0m\u001b[1;33m\u001b[0m\u001b[1;33m\u001b[0m\u001b[0m\n",
      "\u001b[1;32m~\\Anaconda3\\lib\\site-packages\\keras\\engine\\training.py\u001b[0m in \u001b[0;36m_standardize_user_data\u001b[1;34m(self, x, y, sample_weight, class_weight, check_array_lengths, batch_size)\u001b[0m\n\u001b[0;32m    668\u001b[0m                                      \u001b[1;34m'either a single '\u001b[0m\u001b[1;33m\u001b[0m\u001b[1;33m\u001b[0m\u001b[0m\n\u001b[0;32m    669\u001b[0m                                      \u001b[1;34m'array or a list of arrays. '\u001b[0m\u001b[1;33m\u001b[0m\u001b[1;33m\u001b[0m\u001b[0m\n\u001b[1;32m--> 670\u001b[1;33m                                      'You passed: x=' + str(x))\n\u001b[0m\u001b[0;32m    671\u001b[0m                 \u001b[0mall_inputs\u001b[0m\u001b[1;33m.\u001b[0m\u001b[0mappend\u001b[0m\u001b[1;33m(\u001b[0m\u001b[0mx\u001b[0m\u001b[1;33m)\u001b[0m\u001b[1;33m\u001b[0m\u001b[1;33m\u001b[0m\u001b[0m\n\u001b[0;32m    672\u001b[0m \u001b[1;33m\u001b[0m\u001b[0m\n",
      "\u001b[1;31mValueError\u001b[0m: Please provide as model inputs either a single array or a list of arrays. You passed: x=      Breathing Problem  Fever  Dry Cough  Sore throat  Running Nose  Asthma  \\\n4540                  1      0          1            0             0       0   \n2885                  1      1          0            1             0       0   \n3759                  0      1          1            1             0       0   \n2551                  0      1          1            1             1       0   \n4560                  1      0          1            1             0       0   \n...                 ...    ...        ...          ...           ...     ...   \n4931                  0      0          0            0             1       0   \n3264                  1      1          1            0             0       1   \n1653                  1      1          1            1             1       1   \n2607                  0      1          1            1             1       1   \n2732                  1      0          1            1             1       0   \n\n      Chronic Lung Disease  Headache  Heart Disease  Diabetes  Hyper Tension  \\\n4540                     1         0              1         0              0   \n2885                     1         1              1         1              0   \n3759                     0         0              0         0              0   \n2551                     0         0              0         0              0   \n4560                     0         1              0         1              0   \n...                    ...       ...            ...       ...            ...   \n4931                     0         1              0         1              0   \n3264                     1         1              1         0              1   \n1653                     1         1              1         1              0   \n2607                     0         1              0         0              1   \n2732                     1         1              1         0              0   \n\n      Fatigue   Gastrointestinal   Abroad travel  Contact with COVID Patient  \\\n4540         0                  0              0                           0   \n2885         0                  1              0                           1   \n3759         0                  1              1                           1   \n2551         1                  1              1                           0   \n4560         1                  0              0                           0   \n...        ...                ...            ...                         ...   \n4931         1                  1              0                           0   \n3264         1                  0              1                           1   \n1653         1                  1              0                           0   \n2607         0                  0              0                           1   \n2732         1                  0              0                           0   \n\n      Attended Large Gathering  Visited Public Exposed Places  \\\n4540                         0                              1   \n2885                         1                              0   \n3759                         0                              1   \n2551                         1                              1   \n4560                         0                              1   \n...                        ...                            ...   \n4931                         0                              0   \n3264                         0                              0   \n1653                         0                              1   \n2607                         0                              0   \n2732                         1                              0   \n\n      Family working in Public Exposed Places  Wearing Masks  \\\n4540                                        1              0   \n2885                                        0              0   \n3759                                        1              0   \n2551                                        1              0   \n4560                                        1              0   \n...                                       ...            ...   \n4931                                        0              0   \n3264                                        1              0   \n1653                                        1              0   \n2607                                        1              0   \n2732                                        0              0   \n\n      Sanitization from Market  \n4540                         0  \n2885                         0  \n3759                         0  \n2551                         0  \n4560                         0  \n...                        ...  \n4931                         0  \n3264                         0  \n1653                         0  \n2607                         0  \n2732                         0  \n\n[3803 rows x 20 columns]"
     ]
    }
   ],
   "source": [
    "classifier.fit(X_train, Y_train, batch_size = 10, nb_epoch = 100)\n"
   ]
  },
  {
   "cell_type": "code",
   "execution_count": 61,
   "metadata": {},
   "outputs": [],
   "source": [
    "from sklearn.linear_model import LogisticRegression\n",
    "lr= LogisticRegression()"
   ]
  },
  {
   "cell_type": "code",
   "execution_count": 62,
   "metadata": {},
   "outputs": [
    {
     "name": "stderr",
     "output_type": "stream",
     "text": [
      "C:\\Users\\Mainak\\Anaconda3\\lib\\site-packages\\sklearn\\utils\\validation.py:760: DataConversionWarning: A column-vector y was passed when a 1d array was expected. Please change the shape of y to (n_samples, ), for example using ravel().\n",
      "  y = column_or_1d(y, warn=True)\n"
     ]
    },
    {
     "data": {
      "text/plain": [
       "LogisticRegression(C=1.0, class_weight=None, dual=False, fit_intercept=True,\n",
       "                   intercept_scaling=1, l1_ratio=None, max_iter=100,\n",
       "                   multi_class='auto', n_jobs=None, penalty='l2',\n",
       "                   random_state=None, solver='lbfgs', tol=0.0001, verbose=0,\n",
       "                   warm_start=False)"
      ]
     },
     "execution_count": 62,
     "metadata": {},
     "output_type": "execute_result"
    }
   ],
   "source": [
    "lr.fit(X_train,Y_train)"
   ]
  },
  {
   "cell_type": "code",
   "execution_count": 64,
   "metadata": {},
   "outputs": [],
   "source": [
    "from sklearn.metrics import accuracy_score,confusion_matrix"
   ]
  },
  {
   "cell_type": "code",
   "execution_count": 67,
   "metadata": {},
   "outputs": [],
   "source": [
    "pr=lr.predict(X_test)"
   ]
  },
  {
   "cell_type": "code",
   "execution_count": 75,
   "metadata": {},
   "outputs": [
    {
     "name": "stdout",
     "output_type": "stream",
     "text": [
      "[[ 275   43]\n",
      " [  19 1294]]\n",
      "accuracy is 0.9619865113427345\n"
     ]
    }
   ],
   "source": [
    "print(confusion_matrix(Y_test,pr))\n",
    "print('accuracy is',accuracy_score(Y_test,pr))"
   ]
  },
  {
   "cell_type": "code",
   "execution_count": null,
   "metadata": {},
   "outputs": [],
   "source": []
  },
  {
   "cell_type": "code",
   "execution_count": null,
   "metadata": {},
   "outputs": [],
   "source": []
  },
  {
   "cell_type": "code",
   "execution_count": null,
   "metadata": {},
   "outputs": [],
   "source": []
  }
 ],
 "metadata": {
  "kernelspec": {
   "display_name": "Python 3",
   "language": "python",
   "name": "python3"
  },
  "language_info": {
   "codemirror_mode": {
    "name": "ipython",
    "version": 3
   },
   "file_extension": ".py",
   "mimetype": "text/x-python",
   "name": "python",
   "nbconvert_exporter": "python",
   "pygments_lexer": "ipython3",
   "version": "3.7.7"
  }
 },
 "nbformat": 4,
 "nbformat_minor": 4
}
